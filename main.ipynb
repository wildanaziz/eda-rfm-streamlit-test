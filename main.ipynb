{
 "cells": [
  {
   "cell_type": "markdown",
   "metadata": {},
   "source": [
    "# EDA & RFM ANALYSIS - WILDAN AZIZ"
   ]
  },
  {
   "cell_type": "markdown",
   "metadata": {},
   "source": [
    "## Overview Projek\n",
    "\n",
    "Pada projek ini akan menggunakan RFM Analysis pada dataset \"Brazilian E-Commerce Public Dataset by Olist\"\n",
    "Dimana RFM Analysis terdiri atas 3 parameter utama yakni\n",
    "- Recency (R): Seberapa baru pelanggan melakukan transaksi terakhir.\n",
    "- Frequency (F): Seberapa sering pelanggan melakukan pembelian.\n",
    "- Monetary (M): Total uang yang dihabiskan oleh pelanggan.\n",
    "\n",
    "Akhir dari projek ini ditujukan untuk menganalisis serta mengelompokkan pelanggan ke dalam segmen berdasarkan perilaku mereka, dan dengan analisis ini diharapkan membantu dalam strategi pemasaran."
   ]
  },
  {
   "cell_type": "markdown",
   "metadata": {},
   "source": [
    "## Mengimpor Library yang digunakan"
   ]
  },
  {
   "cell_type": "code",
   "execution_count": 81,
   "metadata": {},
   "outputs": [],
   "source": [
    "#Library untuk data processing\n",
    "import pandas as pd\n",
    "\n",
    "#Library untuk perhitungan data\n",
    "import numpy as np\n",
    "\n",
    "# library untuk visualisasi data\n",
    "import seaborn as sns\n",
    "\n",
    "# library untuk visualisasi data\n",
    "import matplotlib.pyplot as plt\n",
    "\n",
    "# Mengimpor limbrary date time untuk konversi waktu order\n",
    "from datetime import timedelta"
   ]
  },
  {
   "cell_type": "markdown",
   "metadata": {},
   "source": [
    "## Data Loading"
   ]
  },
  {
   "cell_type": "code",
   "execution_count": 82,
   "metadata": {},
   "outputs": [],
   "source": [
    "order_pelanggan = pd.read_csv(\"rfm_dataset/olist_orders_dataset.csv\")\n",
    "payment_pelanggan = pd.read_csv(\"rfm_dataset/olist_order_payments_dataset.csv\")"
   ]
  },
  {
   "cell_type": "markdown",
   "metadata": {},
   "source": [
    "### Melihat informasi pada kedua file dataset"
   ]
  },
  {
   "cell_type": "code",
   "execution_count": 83,
   "metadata": {},
   "outputs": [
    {
     "name": "stdout",
     "output_type": "stream",
     "text": [
      "<class 'pandas.core.frame.DataFrame'>\n",
      "RangeIndex: 99441 entries, 0 to 99440\n",
      "Data columns (total 8 columns):\n",
      " #   Column                         Non-Null Count  Dtype \n",
      "---  ------                         --------------  ----- \n",
      " 0   order_id                       99441 non-null  object\n",
      " 1   customer_id                    99441 non-null  object\n",
      " 2   order_status                   99441 non-null  object\n",
      " 3   order_purchase_timestamp       99441 non-null  object\n",
      " 4   order_approved_at              99281 non-null  object\n",
      " 5   order_delivered_carrier_date   97658 non-null  object\n",
      " 6   order_delivered_customer_date  96476 non-null  object\n",
      " 7   order_estimated_delivery_date  99441 non-null  object\n",
      "dtypes: object(8)\n",
      "memory usage: 6.1+ MB\n",
      "<class 'pandas.core.frame.DataFrame'>\n",
      "RangeIndex: 103886 entries, 0 to 103885\n",
      "Data columns (total 5 columns):\n",
      " #   Column                Non-Null Count   Dtype  \n",
      "---  ------                --------------   -----  \n",
      " 0   order_id              103886 non-null  object \n",
      " 1   payment_sequential    103886 non-null  int64  \n",
      " 2   payment_type          103886 non-null  object \n",
      " 3   payment_installments  103886 non-null  int64  \n",
      " 4   payment_value         103886 non-null  float64\n",
      "dtypes: float64(1), int64(2), object(2)\n",
      "memory usage: 4.0+ MB\n"
     ]
    }
   ],
   "source": [
    "order_pelanggan.info()\n",
    "payment_pelanggan.info()"
   ]
  },
  {
   "cell_type": "markdown",
   "metadata": {},
   "source": [
    "### Melihat data order pelanggan sebanyak 10 baris\n",
    "\n",
    "dapat dilihat pada order pelanggan terdapat data yang bernilai nan nanti akan dihapus pada bagian data understanding"
   ]
  },
  {
   "cell_type": "code",
   "execution_count": 84,
   "metadata": {},
   "outputs": [
    {
     "data": {
      "text/html": [
       "<div>\n",
       "<style scoped>\n",
       "    .dataframe tbody tr th:only-of-type {\n",
       "        vertical-align: middle;\n",
       "    }\n",
       "\n",
       "    .dataframe tbody tr th {\n",
       "        vertical-align: top;\n",
       "    }\n",
       "\n",
       "    .dataframe thead th {\n",
       "        text-align: right;\n",
       "    }\n",
       "</style>\n",
       "<table border=\"1\" class=\"dataframe\">\n",
       "  <thead>\n",
       "    <tr style=\"text-align: right;\">\n",
       "      <th></th>\n",
       "      <th>order_id</th>\n",
       "      <th>customer_id</th>\n",
       "      <th>order_status</th>\n",
       "      <th>order_purchase_timestamp</th>\n",
       "      <th>order_approved_at</th>\n",
       "      <th>order_delivered_carrier_date</th>\n",
       "      <th>order_delivered_customer_date</th>\n",
       "      <th>order_estimated_delivery_date</th>\n",
       "    </tr>\n",
       "  </thead>\n",
       "  <tbody>\n",
       "    <tr>\n",
       "      <th>0</th>\n",
       "      <td>e481f51cbdc54678b7cc49136f2d6af7</td>\n",
       "      <td>9ef432eb6251297304e76186b10a928d</td>\n",
       "      <td>delivered</td>\n",
       "      <td>2017-10-02 10:56:33</td>\n",
       "      <td>2017-10-02 11:07:15</td>\n",
       "      <td>2017-10-04 19:55:00</td>\n",
       "      <td>2017-10-10 21:25:13</td>\n",
       "      <td>2017-10-18 00:00:00</td>\n",
       "    </tr>\n",
       "    <tr>\n",
       "      <th>1</th>\n",
       "      <td>53cdb2fc8bc7dce0b6741e2150273451</td>\n",
       "      <td>b0830fb4747a6c6d20dea0b8c802d7ef</td>\n",
       "      <td>delivered</td>\n",
       "      <td>2018-07-24 20:41:37</td>\n",
       "      <td>2018-07-26 03:24:27</td>\n",
       "      <td>2018-07-26 14:31:00</td>\n",
       "      <td>2018-08-07 15:27:45</td>\n",
       "      <td>2018-08-13 00:00:00</td>\n",
       "    </tr>\n",
       "    <tr>\n",
       "      <th>2</th>\n",
       "      <td>47770eb9100c2d0c44946d9cf07ec65d</td>\n",
       "      <td>41ce2a54c0b03bf3443c3d931a367089</td>\n",
       "      <td>delivered</td>\n",
       "      <td>2018-08-08 08:38:49</td>\n",
       "      <td>2018-08-08 08:55:23</td>\n",
       "      <td>2018-08-08 13:50:00</td>\n",
       "      <td>2018-08-17 18:06:29</td>\n",
       "      <td>2018-09-04 00:00:00</td>\n",
       "    </tr>\n",
       "    <tr>\n",
       "      <th>3</th>\n",
       "      <td>949d5b44dbf5de918fe9c16f97b45f8a</td>\n",
       "      <td>f88197465ea7920adcdbec7375364d82</td>\n",
       "      <td>delivered</td>\n",
       "      <td>2017-11-18 19:28:06</td>\n",
       "      <td>2017-11-18 19:45:59</td>\n",
       "      <td>2017-11-22 13:39:59</td>\n",
       "      <td>2017-12-02 00:28:42</td>\n",
       "      <td>2017-12-15 00:00:00</td>\n",
       "    </tr>\n",
       "    <tr>\n",
       "      <th>4</th>\n",
       "      <td>ad21c59c0840e6cb83a9ceb5573f8159</td>\n",
       "      <td>8ab97904e6daea8866dbdbc4fb7aad2c</td>\n",
       "      <td>delivered</td>\n",
       "      <td>2018-02-13 21:18:39</td>\n",
       "      <td>2018-02-13 22:20:29</td>\n",
       "      <td>2018-02-14 19:46:34</td>\n",
       "      <td>2018-02-16 18:17:02</td>\n",
       "      <td>2018-02-26 00:00:00</td>\n",
       "    </tr>\n",
       "    <tr>\n",
       "      <th>5</th>\n",
       "      <td>a4591c265e18cb1dcee52889e2d8acc3</td>\n",
       "      <td>503740e9ca751ccdda7ba28e9ab8f608</td>\n",
       "      <td>delivered</td>\n",
       "      <td>2017-07-09 21:57:05</td>\n",
       "      <td>2017-07-09 22:10:13</td>\n",
       "      <td>2017-07-11 14:58:04</td>\n",
       "      <td>2017-07-26 10:57:55</td>\n",
       "      <td>2017-08-01 00:00:00</td>\n",
       "    </tr>\n",
       "    <tr>\n",
       "      <th>6</th>\n",
       "      <td>136cce7faa42fdb2cefd53fdc79a6098</td>\n",
       "      <td>ed0271e0b7da060a393796590e7b737a</td>\n",
       "      <td>invoiced</td>\n",
       "      <td>2017-04-11 12:22:08</td>\n",
       "      <td>2017-04-13 13:25:17</td>\n",
       "      <td>NaN</td>\n",
       "      <td>NaN</td>\n",
       "      <td>2017-05-09 00:00:00</td>\n",
       "    </tr>\n",
       "    <tr>\n",
       "      <th>7</th>\n",
       "      <td>6514b8ad8028c9f2cc2374ded245783f</td>\n",
       "      <td>9bdf08b4b3b52b5526ff42d37d47f222</td>\n",
       "      <td>delivered</td>\n",
       "      <td>2017-05-16 13:10:30</td>\n",
       "      <td>2017-05-16 13:22:11</td>\n",
       "      <td>2017-05-22 10:07:46</td>\n",
       "      <td>2017-05-26 12:55:51</td>\n",
       "      <td>2017-06-07 00:00:00</td>\n",
       "    </tr>\n",
       "    <tr>\n",
       "      <th>8</th>\n",
       "      <td>76c6e866289321a7c93b82b54852dc33</td>\n",
       "      <td>f54a9f0e6b351c431402b8461ea51999</td>\n",
       "      <td>delivered</td>\n",
       "      <td>2017-01-23 18:29:09</td>\n",
       "      <td>2017-01-25 02:50:47</td>\n",
       "      <td>2017-01-26 14:16:31</td>\n",
       "      <td>2017-02-02 14:08:10</td>\n",
       "      <td>2017-03-06 00:00:00</td>\n",
       "    </tr>\n",
       "    <tr>\n",
       "      <th>9</th>\n",
       "      <td>e69bfb5eb88e0ed6a785585b27e16dbf</td>\n",
       "      <td>31ad1d1b63eb9962463f764d4e6e0c9d</td>\n",
       "      <td>delivered</td>\n",
       "      <td>2017-07-29 11:55:02</td>\n",
       "      <td>2017-07-29 12:05:32</td>\n",
       "      <td>2017-08-10 19:45:24</td>\n",
       "      <td>2017-08-16 17:14:30</td>\n",
       "      <td>2017-08-23 00:00:00</td>\n",
       "    </tr>\n",
       "  </tbody>\n",
       "</table>\n",
       "</div>"
      ],
      "text/plain": [
       "                           order_id                       customer_id  \\\n",
       "0  e481f51cbdc54678b7cc49136f2d6af7  9ef432eb6251297304e76186b10a928d   \n",
       "1  53cdb2fc8bc7dce0b6741e2150273451  b0830fb4747a6c6d20dea0b8c802d7ef   \n",
       "2  47770eb9100c2d0c44946d9cf07ec65d  41ce2a54c0b03bf3443c3d931a367089   \n",
       "3  949d5b44dbf5de918fe9c16f97b45f8a  f88197465ea7920adcdbec7375364d82   \n",
       "4  ad21c59c0840e6cb83a9ceb5573f8159  8ab97904e6daea8866dbdbc4fb7aad2c   \n",
       "5  a4591c265e18cb1dcee52889e2d8acc3  503740e9ca751ccdda7ba28e9ab8f608   \n",
       "6  136cce7faa42fdb2cefd53fdc79a6098  ed0271e0b7da060a393796590e7b737a   \n",
       "7  6514b8ad8028c9f2cc2374ded245783f  9bdf08b4b3b52b5526ff42d37d47f222   \n",
       "8  76c6e866289321a7c93b82b54852dc33  f54a9f0e6b351c431402b8461ea51999   \n",
       "9  e69bfb5eb88e0ed6a785585b27e16dbf  31ad1d1b63eb9962463f764d4e6e0c9d   \n",
       "\n",
       "  order_status order_purchase_timestamp    order_approved_at  \\\n",
       "0    delivered      2017-10-02 10:56:33  2017-10-02 11:07:15   \n",
       "1    delivered      2018-07-24 20:41:37  2018-07-26 03:24:27   \n",
       "2    delivered      2018-08-08 08:38:49  2018-08-08 08:55:23   \n",
       "3    delivered      2017-11-18 19:28:06  2017-11-18 19:45:59   \n",
       "4    delivered      2018-02-13 21:18:39  2018-02-13 22:20:29   \n",
       "5    delivered      2017-07-09 21:57:05  2017-07-09 22:10:13   \n",
       "6     invoiced      2017-04-11 12:22:08  2017-04-13 13:25:17   \n",
       "7    delivered      2017-05-16 13:10:30  2017-05-16 13:22:11   \n",
       "8    delivered      2017-01-23 18:29:09  2017-01-25 02:50:47   \n",
       "9    delivered      2017-07-29 11:55:02  2017-07-29 12:05:32   \n",
       "\n",
       "  order_delivered_carrier_date order_delivered_customer_date  \\\n",
       "0          2017-10-04 19:55:00           2017-10-10 21:25:13   \n",
       "1          2018-07-26 14:31:00           2018-08-07 15:27:45   \n",
       "2          2018-08-08 13:50:00           2018-08-17 18:06:29   \n",
       "3          2017-11-22 13:39:59           2017-12-02 00:28:42   \n",
       "4          2018-02-14 19:46:34           2018-02-16 18:17:02   \n",
       "5          2017-07-11 14:58:04           2017-07-26 10:57:55   \n",
       "6                          NaN                           NaN   \n",
       "7          2017-05-22 10:07:46           2017-05-26 12:55:51   \n",
       "8          2017-01-26 14:16:31           2017-02-02 14:08:10   \n",
       "9          2017-08-10 19:45:24           2017-08-16 17:14:30   \n",
       "\n",
       "  order_estimated_delivery_date  \n",
       "0           2017-10-18 00:00:00  \n",
       "1           2018-08-13 00:00:00  \n",
       "2           2018-09-04 00:00:00  \n",
       "3           2017-12-15 00:00:00  \n",
       "4           2018-02-26 00:00:00  \n",
       "5           2017-08-01 00:00:00  \n",
       "6           2017-05-09 00:00:00  \n",
       "7           2017-06-07 00:00:00  \n",
       "8           2017-03-06 00:00:00  \n",
       "9           2017-08-23 00:00:00  "
      ]
     },
     "execution_count": 84,
     "metadata": {},
     "output_type": "execute_result"
    }
   ],
   "source": [
    "order_pelanggan.head(10)"
   ]
  },
  {
   "cell_type": "markdown",
   "metadata": {},
   "source": [
    "### Melihat data payment pelanggan sebanyak 10 baris\n",
    "\n",
    "dapat dilihat pada payment pelanggan tidak ada data yang bernilai NaN"
   ]
  },
  {
   "cell_type": "code",
   "execution_count": 85,
   "metadata": {},
   "outputs": [
    {
     "data": {
      "text/html": [
       "<div>\n",
       "<style scoped>\n",
       "    .dataframe tbody tr th:only-of-type {\n",
       "        vertical-align: middle;\n",
       "    }\n",
       "\n",
       "    .dataframe tbody tr th {\n",
       "        vertical-align: top;\n",
       "    }\n",
       "\n",
       "    .dataframe thead th {\n",
       "        text-align: right;\n",
       "    }\n",
       "</style>\n",
       "<table border=\"1\" class=\"dataframe\">\n",
       "  <thead>\n",
       "    <tr style=\"text-align: right;\">\n",
       "      <th></th>\n",
       "      <th>order_id</th>\n",
       "      <th>payment_sequential</th>\n",
       "      <th>payment_type</th>\n",
       "      <th>payment_installments</th>\n",
       "      <th>payment_value</th>\n",
       "    </tr>\n",
       "  </thead>\n",
       "  <tbody>\n",
       "    <tr>\n",
       "      <th>0</th>\n",
       "      <td>b81ef226f3fe1789b1e8b2acac839d17</td>\n",
       "      <td>1</td>\n",
       "      <td>credit_card</td>\n",
       "      <td>8</td>\n",
       "      <td>99.33</td>\n",
       "    </tr>\n",
       "    <tr>\n",
       "      <th>1</th>\n",
       "      <td>a9810da82917af2d9aefd1278f1dcfa0</td>\n",
       "      <td>1</td>\n",
       "      <td>credit_card</td>\n",
       "      <td>1</td>\n",
       "      <td>24.39</td>\n",
       "    </tr>\n",
       "    <tr>\n",
       "      <th>2</th>\n",
       "      <td>25e8ea4e93396b6fa0d3dd708e76c1bd</td>\n",
       "      <td>1</td>\n",
       "      <td>credit_card</td>\n",
       "      <td>1</td>\n",
       "      <td>65.71</td>\n",
       "    </tr>\n",
       "    <tr>\n",
       "      <th>3</th>\n",
       "      <td>ba78997921bbcdc1373bb41e913ab953</td>\n",
       "      <td>1</td>\n",
       "      <td>credit_card</td>\n",
       "      <td>8</td>\n",
       "      <td>107.78</td>\n",
       "    </tr>\n",
       "    <tr>\n",
       "      <th>4</th>\n",
       "      <td>42fdf880ba16b47b59251dd489d4441a</td>\n",
       "      <td>1</td>\n",
       "      <td>credit_card</td>\n",
       "      <td>2</td>\n",
       "      <td>128.45</td>\n",
       "    </tr>\n",
       "    <tr>\n",
       "      <th>5</th>\n",
       "      <td>298fcdf1f73eb413e4d26d01b25bc1cd</td>\n",
       "      <td>1</td>\n",
       "      <td>credit_card</td>\n",
       "      <td>2</td>\n",
       "      <td>96.12</td>\n",
       "    </tr>\n",
       "    <tr>\n",
       "      <th>6</th>\n",
       "      <td>771ee386b001f06208a7419e4fc1bbd7</td>\n",
       "      <td>1</td>\n",
       "      <td>credit_card</td>\n",
       "      <td>1</td>\n",
       "      <td>81.16</td>\n",
       "    </tr>\n",
       "    <tr>\n",
       "      <th>7</th>\n",
       "      <td>3d7239c394a212faae122962df514ac7</td>\n",
       "      <td>1</td>\n",
       "      <td>credit_card</td>\n",
       "      <td>3</td>\n",
       "      <td>51.84</td>\n",
       "    </tr>\n",
       "    <tr>\n",
       "      <th>8</th>\n",
       "      <td>1f78449c87a54faf9e96e88ba1491fa9</td>\n",
       "      <td>1</td>\n",
       "      <td>credit_card</td>\n",
       "      <td>6</td>\n",
       "      <td>341.09</td>\n",
       "    </tr>\n",
       "    <tr>\n",
       "      <th>9</th>\n",
       "      <td>0573b5e23cbd798006520e1d5b4c6714</td>\n",
       "      <td>1</td>\n",
       "      <td>boleto</td>\n",
       "      <td>1</td>\n",
       "      <td>51.95</td>\n",
       "    </tr>\n",
       "  </tbody>\n",
       "</table>\n",
       "</div>"
      ],
      "text/plain": [
       "                           order_id  payment_sequential payment_type  \\\n",
       "0  b81ef226f3fe1789b1e8b2acac839d17                   1  credit_card   \n",
       "1  a9810da82917af2d9aefd1278f1dcfa0                   1  credit_card   \n",
       "2  25e8ea4e93396b6fa0d3dd708e76c1bd                   1  credit_card   \n",
       "3  ba78997921bbcdc1373bb41e913ab953                   1  credit_card   \n",
       "4  42fdf880ba16b47b59251dd489d4441a                   1  credit_card   \n",
       "5  298fcdf1f73eb413e4d26d01b25bc1cd                   1  credit_card   \n",
       "6  771ee386b001f06208a7419e4fc1bbd7                   1  credit_card   \n",
       "7  3d7239c394a212faae122962df514ac7                   1  credit_card   \n",
       "8  1f78449c87a54faf9e96e88ba1491fa9                   1  credit_card   \n",
       "9  0573b5e23cbd798006520e1d5b4c6714                   1       boleto   \n",
       "\n",
       "   payment_installments  payment_value  \n",
       "0                     8          99.33  \n",
       "1                     1          24.39  \n",
       "2                     1          65.71  \n",
       "3                     8         107.78  \n",
       "4                     2         128.45  \n",
       "5                     2          96.12  \n",
       "6                     1          81.16  \n",
       "7                     3          51.84  \n",
       "8                     6         341.09  \n",
       "9                     1          51.95  "
      ]
     },
     "execution_count": 85,
     "metadata": {},
     "output_type": "execute_result"
    }
   ],
   "source": [
    "payment_pelanggan.head(10)"
   ]
  },
  {
   "cell_type": "markdown",
   "metadata": {},
   "source": [
    "## Data Understanding"
   ]
  },
  {
   "cell_type": "markdown",
   "metadata": {},
   "source": [
    "### Mengetahui tipedata dari kedua file dataset (order_pelanggan dan payment_pelanggan)"
   ]
  },
  {
   "cell_type": "code",
   "execution_count": 86,
   "metadata": {},
   "outputs": [
    {
     "data": {
      "text/plain": [
       "order_id                         object\n",
       "customer_id                      object\n",
       "order_status                     object\n",
       "order_purchase_timestamp         object\n",
       "order_approved_at                object\n",
       "order_delivered_carrier_date     object\n",
       "order_delivered_customer_date    object\n",
       "order_estimated_delivery_date    object\n",
       "dtype: object"
      ]
     },
     "execution_count": 86,
     "metadata": {},
     "output_type": "execute_result"
    }
   ],
   "source": [
    "order_pelanggan.dtypes"
   ]
  },
  {
   "cell_type": "code",
   "execution_count": 87,
   "metadata": {},
   "outputs": [
    {
     "data": {
      "text/plain": [
       "order_id                 object\n",
       "payment_sequential        int64\n",
       "payment_type             object\n",
       "payment_installments      int64\n",
       "payment_value           float64\n",
       "dtype: object"
      ]
     },
     "execution_count": 87,
     "metadata": {},
     "output_type": "execute_result"
    }
   ],
   "source": [
    "payment_pelanggan.dtypes"
   ]
  },
  {
   "cell_type": "markdown",
   "metadata": {},
   "source": [
    "### Menghapus missing value dari kedua file dataset\n",
    "\n",
    "dapat dilihat bahwa untuk file dataset order_pelanggan memiliki banyak nilai NaN sedangkan payment_pelanggan tidak ada nilai NaN"
   ]
  },
  {
   "cell_type": "code",
   "execution_count": 88,
   "metadata": {},
   "outputs": [
    {
     "data": {
      "text/plain": [
       "order_id                            0\n",
       "customer_id                         0\n",
       "order_status                        0\n",
       "order_purchase_timestamp            0\n",
       "order_approved_at                 160\n",
       "order_delivered_carrier_date     1783\n",
       "order_delivered_customer_date    2965\n",
       "order_estimated_delivery_date       0\n",
       "dtype: int64"
      ]
     },
     "execution_count": 88,
     "metadata": {},
     "output_type": "execute_result"
    }
   ],
   "source": [
    "order_pelanggan.isna().sum()"
   ]
  },
  {
   "cell_type": "code",
   "execution_count": 89,
   "metadata": {},
   "outputs": [
    {
     "data": {
      "text/plain": [
       "order_id                0\n",
       "payment_sequential      0\n",
       "payment_type            0\n",
       "payment_installments    0\n",
       "payment_value           0\n",
       "dtype: int64"
      ]
     },
     "execution_count": 89,
     "metadata": {},
     "output_type": "execute_result"
    }
   ],
   "source": [
    "payment_pelanggan.isna().sum()"
   ]
  },
  {
   "cell_type": "markdown",
   "metadata": {},
   "source": [
    "Menghapus missing value"
   ]
  },
  {
   "cell_type": "code",
   "execution_count": 90,
   "metadata": {},
   "outputs": [],
   "source": [
    "order_pelanggan_clean = order_pelanggan.dropna(subset=['order_approved_at', 'order_delivered_carrier_date', 'order_delivered_customer_date'])"
   ]
  },
  {
   "cell_type": "code",
   "execution_count": 91,
   "metadata": {},
   "outputs": [
    {
     "data": {
      "text/plain": [
       "order_id                         0\n",
       "customer_id                      0\n",
       "order_status                     0\n",
       "order_purchase_timestamp         0\n",
       "order_approved_at                0\n",
       "order_delivered_carrier_date     0\n",
       "order_delivered_customer_date    0\n",
       "order_estimated_delivery_date    0\n",
       "dtype: int64"
      ]
     },
     "execution_count": 91,
     "metadata": {},
     "output_type": "execute_result"
    }
   ],
   "source": [
    "order_pelanggan_clean.isna().sum()"
   ]
  },
  {
   "cell_type": "markdown",
   "metadata": {},
   "source": [
    "Setelah dibersihkan data order_pelanggan yang semula 99441 entries menjadi 96461 entries"
   ]
  },
  {
   "cell_type": "code",
   "execution_count": 92,
   "metadata": {},
   "outputs": [
    {
     "name": "stdout",
     "output_type": "stream",
     "text": [
      "<class 'pandas.core.frame.DataFrame'>\n",
      "Index: 96461 entries, 0 to 99440\n",
      "Data columns (total 8 columns):\n",
      " #   Column                         Non-Null Count  Dtype \n",
      "---  ------                         --------------  ----- \n",
      " 0   order_id                       96461 non-null  object\n",
      " 1   customer_id                    96461 non-null  object\n",
      " 2   order_status                   96461 non-null  object\n",
      " 3   order_purchase_timestamp       96461 non-null  object\n",
      " 4   order_approved_at              96461 non-null  object\n",
      " 5   order_delivered_carrier_date   96461 non-null  object\n",
      " 6   order_delivered_customer_date  96461 non-null  object\n",
      " 7   order_estimated_delivery_date  96461 non-null  object\n",
      "dtypes: object(8)\n",
      "memory usage: 6.6+ MB\n"
     ]
    }
   ],
   "source": [
    "order_pelanggan_clean.info()"
   ]
  },
  {
   "cell_type": "code",
   "execution_count": 93,
   "metadata": {},
   "outputs": [
    {
     "data": {
      "text/html": [
       "<div>\n",
       "<style scoped>\n",
       "    .dataframe tbody tr th:only-of-type {\n",
       "        vertical-align: middle;\n",
       "    }\n",
       "\n",
       "    .dataframe tbody tr th {\n",
       "        vertical-align: top;\n",
       "    }\n",
       "\n",
       "    .dataframe thead th {\n",
       "        text-align: right;\n",
       "    }\n",
       "</style>\n",
       "<table border=\"1\" class=\"dataframe\">\n",
       "  <thead>\n",
       "    <tr style=\"text-align: right;\">\n",
       "      <th></th>\n",
       "      <th>order_id</th>\n",
       "      <th>customer_id</th>\n",
       "      <th>order_status</th>\n",
       "      <th>order_purchase_timestamp</th>\n",
       "      <th>order_approved_at</th>\n",
       "      <th>order_delivered_carrier_date</th>\n",
       "      <th>order_delivered_customer_date</th>\n",
       "      <th>order_estimated_delivery_date</th>\n",
       "    </tr>\n",
       "  </thead>\n",
       "  <tbody>\n",
       "    <tr>\n",
       "      <th>0</th>\n",
       "      <td>e481f51cbdc54678b7cc49136f2d6af7</td>\n",
       "      <td>9ef432eb6251297304e76186b10a928d</td>\n",
       "      <td>delivered</td>\n",
       "      <td>2017-10-02 10:56:33</td>\n",
       "      <td>2017-10-02 11:07:15</td>\n",
       "      <td>2017-10-04 19:55:00</td>\n",
       "      <td>2017-10-10 21:25:13</td>\n",
       "      <td>2017-10-18 00:00:00</td>\n",
       "    </tr>\n",
       "    <tr>\n",
       "      <th>1</th>\n",
       "      <td>53cdb2fc8bc7dce0b6741e2150273451</td>\n",
       "      <td>b0830fb4747a6c6d20dea0b8c802d7ef</td>\n",
       "      <td>delivered</td>\n",
       "      <td>2018-07-24 20:41:37</td>\n",
       "      <td>2018-07-26 03:24:27</td>\n",
       "      <td>2018-07-26 14:31:00</td>\n",
       "      <td>2018-08-07 15:27:45</td>\n",
       "      <td>2018-08-13 00:00:00</td>\n",
       "    </tr>\n",
       "    <tr>\n",
       "      <th>2</th>\n",
       "      <td>47770eb9100c2d0c44946d9cf07ec65d</td>\n",
       "      <td>41ce2a54c0b03bf3443c3d931a367089</td>\n",
       "      <td>delivered</td>\n",
       "      <td>2018-08-08 08:38:49</td>\n",
       "      <td>2018-08-08 08:55:23</td>\n",
       "      <td>2018-08-08 13:50:00</td>\n",
       "      <td>2018-08-17 18:06:29</td>\n",
       "      <td>2018-09-04 00:00:00</td>\n",
       "    </tr>\n",
       "    <tr>\n",
       "      <th>3</th>\n",
       "      <td>949d5b44dbf5de918fe9c16f97b45f8a</td>\n",
       "      <td>f88197465ea7920adcdbec7375364d82</td>\n",
       "      <td>delivered</td>\n",
       "      <td>2017-11-18 19:28:06</td>\n",
       "      <td>2017-11-18 19:45:59</td>\n",
       "      <td>2017-11-22 13:39:59</td>\n",
       "      <td>2017-12-02 00:28:42</td>\n",
       "      <td>2017-12-15 00:00:00</td>\n",
       "    </tr>\n",
       "    <tr>\n",
       "      <th>4</th>\n",
       "      <td>ad21c59c0840e6cb83a9ceb5573f8159</td>\n",
       "      <td>8ab97904e6daea8866dbdbc4fb7aad2c</td>\n",
       "      <td>delivered</td>\n",
       "      <td>2018-02-13 21:18:39</td>\n",
       "      <td>2018-02-13 22:20:29</td>\n",
       "      <td>2018-02-14 19:46:34</td>\n",
       "      <td>2018-02-16 18:17:02</td>\n",
       "      <td>2018-02-26 00:00:00</td>\n",
       "    </tr>\n",
       "    <tr>\n",
       "      <th>5</th>\n",
       "      <td>a4591c265e18cb1dcee52889e2d8acc3</td>\n",
       "      <td>503740e9ca751ccdda7ba28e9ab8f608</td>\n",
       "      <td>delivered</td>\n",
       "      <td>2017-07-09 21:57:05</td>\n",
       "      <td>2017-07-09 22:10:13</td>\n",
       "      <td>2017-07-11 14:58:04</td>\n",
       "      <td>2017-07-26 10:57:55</td>\n",
       "      <td>2017-08-01 00:00:00</td>\n",
       "    </tr>\n",
       "    <tr>\n",
       "      <th>7</th>\n",
       "      <td>6514b8ad8028c9f2cc2374ded245783f</td>\n",
       "      <td>9bdf08b4b3b52b5526ff42d37d47f222</td>\n",
       "      <td>delivered</td>\n",
       "      <td>2017-05-16 13:10:30</td>\n",
       "      <td>2017-05-16 13:22:11</td>\n",
       "      <td>2017-05-22 10:07:46</td>\n",
       "      <td>2017-05-26 12:55:51</td>\n",
       "      <td>2017-06-07 00:00:00</td>\n",
       "    </tr>\n",
       "    <tr>\n",
       "      <th>8</th>\n",
       "      <td>76c6e866289321a7c93b82b54852dc33</td>\n",
       "      <td>f54a9f0e6b351c431402b8461ea51999</td>\n",
       "      <td>delivered</td>\n",
       "      <td>2017-01-23 18:29:09</td>\n",
       "      <td>2017-01-25 02:50:47</td>\n",
       "      <td>2017-01-26 14:16:31</td>\n",
       "      <td>2017-02-02 14:08:10</td>\n",
       "      <td>2017-03-06 00:00:00</td>\n",
       "    </tr>\n",
       "    <tr>\n",
       "      <th>9</th>\n",
       "      <td>e69bfb5eb88e0ed6a785585b27e16dbf</td>\n",
       "      <td>31ad1d1b63eb9962463f764d4e6e0c9d</td>\n",
       "      <td>delivered</td>\n",
       "      <td>2017-07-29 11:55:02</td>\n",
       "      <td>2017-07-29 12:05:32</td>\n",
       "      <td>2017-08-10 19:45:24</td>\n",
       "      <td>2017-08-16 17:14:30</td>\n",
       "      <td>2017-08-23 00:00:00</td>\n",
       "    </tr>\n",
       "    <tr>\n",
       "      <th>10</th>\n",
       "      <td>e6ce16cb79ec1d90b1da9085a6118aeb</td>\n",
       "      <td>494dded5b201313c64ed7f100595b95c</td>\n",
       "      <td>delivered</td>\n",
       "      <td>2017-05-16 19:41:10</td>\n",
       "      <td>2017-05-16 19:50:18</td>\n",
       "      <td>2017-05-18 11:40:40</td>\n",
       "      <td>2017-05-29 11:18:31</td>\n",
       "      <td>2017-06-07 00:00:00</td>\n",
       "    </tr>\n",
       "  </tbody>\n",
       "</table>\n",
       "</div>"
      ],
      "text/plain": [
       "                            order_id                       customer_id  \\\n",
       "0   e481f51cbdc54678b7cc49136f2d6af7  9ef432eb6251297304e76186b10a928d   \n",
       "1   53cdb2fc8bc7dce0b6741e2150273451  b0830fb4747a6c6d20dea0b8c802d7ef   \n",
       "2   47770eb9100c2d0c44946d9cf07ec65d  41ce2a54c0b03bf3443c3d931a367089   \n",
       "3   949d5b44dbf5de918fe9c16f97b45f8a  f88197465ea7920adcdbec7375364d82   \n",
       "4   ad21c59c0840e6cb83a9ceb5573f8159  8ab97904e6daea8866dbdbc4fb7aad2c   \n",
       "5   a4591c265e18cb1dcee52889e2d8acc3  503740e9ca751ccdda7ba28e9ab8f608   \n",
       "7   6514b8ad8028c9f2cc2374ded245783f  9bdf08b4b3b52b5526ff42d37d47f222   \n",
       "8   76c6e866289321a7c93b82b54852dc33  f54a9f0e6b351c431402b8461ea51999   \n",
       "9   e69bfb5eb88e0ed6a785585b27e16dbf  31ad1d1b63eb9962463f764d4e6e0c9d   \n",
       "10  e6ce16cb79ec1d90b1da9085a6118aeb  494dded5b201313c64ed7f100595b95c   \n",
       "\n",
       "   order_status order_purchase_timestamp    order_approved_at  \\\n",
       "0     delivered      2017-10-02 10:56:33  2017-10-02 11:07:15   \n",
       "1     delivered      2018-07-24 20:41:37  2018-07-26 03:24:27   \n",
       "2     delivered      2018-08-08 08:38:49  2018-08-08 08:55:23   \n",
       "3     delivered      2017-11-18 19:28:06  2017-11-18 19:45:59   \n",
       "4     delivered      2018-02-13 21:18:39  2018-02-13 22:20:29   \n",
       "5     delivered      2017-07-09 21:57:05  2017-07-09 22:10:13   \n",
       "7     delivered      2017-05-16 13:10:30  2017-05-16 13:22:11   \n",
       "8     delivered      2017-01-23 18:29:09  2017-01-25 02:50:47   \n",
       "9     delivered      2017-07-29 11:55:02  2017-07-29 12:05:32   \n",
       "10    delivered      2017-05-16 19:41:10  2017-05-16 19:50:18   \n",
       "\n",
       "   order_delivered_carrier_date order_delivered_customer_date  \\\n",
       "0           2017-10-04 19:55:00           2017-10-10 21:25:13   \n",
       "1           2018-07-26 14:31:00           2018-08-07 15:27:45   \n",
       "2           2018-08-08 13:50:00           2018-08-17 18:06:29   \n",
       "3           2017-11-22 13:39:59           2017-12-02 00:28:42   \n",
       "4           2018-02-14 19:46:34           2018-02-16 18:17:02   \n",
       "5           2017-07-11 14:58:04           2017-07-26 10:57:55   \n",
       "7           2017-05-22 10:07:46           2017-05-26 12:55:51   \n",
       "8           2017-01-26 14:16:31           2017-02-02 14:08:10   \n",
       "9           2017-08-10 19:45:24           2017-08-16 17:14:30   \n",
       "10          2017-05-18 11:40:40           2017-05-29 11:18:31   \n",
       "\n",
       "   order_estimated_delivery_date  \n",
       "0            2017-10-18 00:00:00  \n",
       "1            2018-08-13 00:00:00  \n",
       "2            2018-09-04 00:00:00  \n",
       "3            2017-12-15 00:00:00  \n",
       "4            2018-02-26 00:00:00  \n",
       "5            2017-08-01 00:00:00  \n",
       "7            2017-06-07 00:00:00  \n",
       "8            2017-03-06 00:00:00  \n",
       "9            2017-08-23 00:00:00  \n",
       "10           2017-06-07 00:00:00  "
      ]
     },
     "execution_count": 93,
     "metadata": {},
     "output_type": "execute_result"
    }
   ],
   "source": [
    "order_pelanggan_clean.head(10)"
   ]
  },
  {
   "cell_type": "markdown",
   "metadata": {},
   "source": [
    "### Mengubah date, timestamp dsb. menjadi dalam bentuk datetime format "
   ]
  },
  {
   "cell_type": "code",
   "execution_count": 94,
   "metadata": {},
   "outputs": [
    {
     "name": "stderr",
     "output_type": "stream",
     "text": [
      "/tmp/ipykernel_76960/258287205.py:1: SettingWithCopyWarning: \n",
      "A value is trying to be set on a copy of a slice from a DataFrame.\n",
      "Try using .loc[row_indexer,col_indexer] = value instead\n",
      "\n",
      "See the caveats in the documentation: https://pandas.pydata.org/pandas-docs/stable/user_guide/indexing.html#returning-a-view-versus-a-copy\n",
      "  order_pelanggan_clean[['order_purchase_timestamp',\n"
     ]
    }
   ],
   "source": [
    "order_pelanggan_clean[['order_purchase_timestamp',\n",
    "       'order_approved_at', 'order_delivered_carrier_date',\n",
    "       'order_delivered_customer_date', 'order_estimated_delivery_date']] = order_pelanggan_clean[['order_purchase_timestamp',\n",
    "       'order_approved_at', 'order_delivered_carrier_date',\n",
    "       'order_delivered_customer_date', 'order_estimated_delivery_date']]\\\n",
    "        .apply(lambda x: pd.to_datetime(x,errors = 'coerce', format='%Y-%m-%d %H:%M:%S'))\\\n",
    "        .apply(lambda x: x.dt.date)\\\n",
    "        .astype('datetime64[ns]')"
   ]
  },
  {
   "cell_type": "markdown",
   "metadata": {},
   "source": [
    "### Mengambil orderan terakhir sebagai analysis"
   ]
  },
  {
   "cell_type": "code",
   "execution_count": 95,
   "metadata": {},
   "outputs": [
    {
     "data": {
      "text/plain": [
       "Timestamp('2018-09-12 00:00:00')"
      ]
     },
     "execution_count": 95,
     "metadata": {},
     "output_type": "execute_result"
    }
   ],
   "source": [
    "order_terakhir = order_pelanggan_clean['order_delivered_carrier_date'].max() + timedelta(days=1)\n",
    "order_terakhir"
   ]
  },
  {
   "cell_type": "markdown",
   "metadata": {},
   "source": [
    "### Menggabungkan dua file dataset menjadi satu dataframe"
   ]
  },
  {
   "cell_type": "code",
   "execution_count": 96,
   "metadata": {},
   "outputs": [],
   "source": [
    "df_group = order_pelanggan_clean.merge(payment_pelanggan, how='inner', on=['order_id'])"
   ]
  },
  {
   "cell_type": "markdown",
   "metadata": {},
   "source": [
    "### Membuat rfm dengan variabel tertentu"
   ]
  },
  {
   "cell_type": "code",
   "execution_count": 97,
   "metadata": {},
   "outputs": [],
   "source": [
    "rfm_merge = df_group.groupby('customer_id').agg(\n",
    "    r = ('order_delivered_carrier_date', lambda x: (order_terakhir - x.max()).days),\n",
    "    f = ('payment_sequential', 'count'),\n",
    "    m = ('payment_value', 'sum')\n",
    ")"
   ]
  },
  {
   "cell_type": "code",
   "execution_count": 98,
   "metadata": {},
   "outputs": [
    {
     "data": {
      "text/html": [
       "<div>\n",
       "<style scoped>\n",
       "    .dataframe tbody tr th:only-of-type {\n",
       "        vertical-align: middle;\n",
       "    }\n",
       "\n",
       "    .dataframe tbody tr th {\n",
       "        vertical-align: top;\n",
       "    }\n",
       "\n",
       "    .dataframe thead th {\n",
       "        text-align: right;\n",
       "    }\n",
       "</style>\n",
       "<table border=\"1\" class=\"dataframe\">\n",
       "  <thead>\n",
       "    <tr style=\"text-align: right;\">\n",
       "      <th></th>\n",
       "      <th>r</th>\n",
       "      <th>f</th>\n",
       "      <th>m</th>\n",
       "    </tr>\n",
       "    <tr>\n",
       "      <th>customer_id</th>\n",
       "      <th></th>\n",
       "      <th></th>\n",
       "      <th></th>\n",
       "    </tr>\n",
       "  </thead>\n",
       "  <tbody>\n",
       "    <tr>\n",
       "      <th>00012a2ce6f8dcda20d059ce98491703</th>\n",
       "      <td>299</td>\n",
       "      <td>1</td>\n",
       "      <td>114.74</td>\n",
       "    </tr>\n",
       "    <tr>\n",
       "      <th>000161a058600d5901f007fab4c27140</th>\n",
       "      <td>420</td>\n",
       "      <td>1</td>\n",
       "      <td>67.41</td>\n",
       "    </tr>\n",
       "    <tr>\n",
       "      <th>0001fd6190edaaf884bcaf3d49edf079</th>\n",
       "      <td>560</td>\n",
       "      <td>1</td>\n",
       "      <td>195.42</td>\n",
       "    </tr>\n",
       "    <tr>\n",
       "      <th>0002414f95344307404f0ace7a26f1d5</th>\n",
       "      <td>389</td>\n",
       "      <td>1</td>\n",
       "      <td>179.35</td>\n",
       "    </tr>\n",
       "    <tr>\n",
       "      <th>000379cdec625522490c315e70c7a9fb</th>\n",
       "      <td>161</td>\n",
       "      <td>1</td>\n",
       "      <td>107.01</td>\n",
       "    </tr>\n",
       "  </tbody>\n",
       "</table>\n",
       "</div>"
      ],
      "text/plain": [
       "                                    r  f       m\n",
       "customer_id                                     \n",
       "00012a2ce6f8dcda20d059ce98491703  299  1  114.74\n",
       "000161a058600d5901f007fab4c27140  420  1   67.41\n",
       "0001fd6190edaaf884bcaf3d49edf079  560  1  195.42\n",
       "0002414f95344307404f0ace7a26f1d5  389  1  179.35\n",
       "000379cdec625522490c315e70c7a9fb  161  1  107.01"
      ]
     },
     "execution_count": 98,
     "metadata": {},
     "output_type": "execute_result"
    }
   ],
   "source": [
    "rfm_merge.head()"
   ]
  },
  {
   "cell_type": "markdown",
   "metadata": {},
   "source": [
    "## EDA (Exploratory Data Analysis)\n",
    "\n",
    "#### Pada bagian ini akan ada beberapa tujuan yang ingin dicari diantaranya yaitu:\n",
    "1. Korelasi Antar Variabel untuk RFM\n",
    "- Tujuannya untuk mengetahui hubungan antara Recency, Frequency dan Monetary\n",
    "2. Analisis Tren Waktu\n",
    "- Tujuannya untuk menemukan pola musiman atau tren naik/turun dalam pembelian.\n",
    "3. Analisis pelanggan unik\n",
    "- Tujuannya untuk mengidentifikasi apakah jumlah pelanggan unik meningkat atau menurun setiap tahun.\n",
    "\n",
    "4. Segmentasi Frekuensi Pembeli\n",
    "- Sebagaimana yang diketahui pada dataset bahwa mayoritas pelanggan adalah pembeli satu kali. Sejalan dengan hal itu segmentasi frekuensi perlu dianalisis lebih mendalam.\n",
    "Maka dari itu agar mengetahui strategi pemasaran yang baik perlu adanya perancangan yang matang agar meningkatkan pembelian berulang."
   ]
  },
  {
   "cell_type": "markdown",
   "metadata": {},
   "source": [
    "### Mendeskripsikan rfm_merge"
   ]
  },
  {
   "cell_type": "code",
   "execution_count": 99,
   "metadata": {},
   "outputs": [
    {
     "data": {
      "text/html": [
       "<div>\n",
       "<style scoped>\n",
       "    .dataframe tbody tr th:only-of-type {\n",
       "        vertical-align: middle;\n",
       "    }\n",
       "\n",
       "    .dataframe tbody tr th {\n",
       "        vertical-align: top;\n",
       "    }\n",
       "\n",
       "    .dataframe thead th {\n",
       "        text-align: right;\n",
       "    }\n",
       "</style>\n",
       "<table border=\"1\" class=\"dataframe\">\n",
       "  <thead>\n",
       "    <tr style=\"text-align: right;\">\n",
       "      <th></th>\n",
       "      <th>r</th>\n",
       "      <th>f</th>\n",
       "      <th>m</th>\n",
       "    </tr>\n",
       "  </thead>\n",
       "  <tbody>\n",
       "    <tr>\n",
       "      <th>count</th>\n",
       "      <td>96460.000000</td>\n",
       "      <td>96460.000000</td>\n",
       "      <td>96460.000000</td>\n",
       "    </tr>\n",
       "    <tr>\n",
       "      <th>mean</th>\n",
       "      <td>250.422662</td>\n",
       "      <td>1.044360</td>\n",
       "      <td>159.855721</td>\n",
       "    </tr>\n",
       "    <tr>\n",
       "      <th>std</th>\n",
       "      <td>152.568149</td>\n",
       "      <td>0.369635</td>\n",
       "      <td>218.828474</td>\n",
       "    </tr>\n",
       "    <tr>\n",
       "      <th>min</th>\n",
       "      <td>1.000000</td>\n",
       "      <td>1.000000</td>\n",
       "      <td>9.590000</td>\n",
       "    </tr>\n",
       "    <tr>\n",
       "      <th>25%</th>\n",
       "      <td>127.000000</td>\n",
       "      <td>1.000000</td>\n",
       "      <td>61.880000</td>\n",
       "    </tr>\n",
       "    <tr>\n",
       "      <th>50%</th>\n",
       "      <td>231.000000</td>\n",
       "      <td>1.000000</td>\n",
       "      <td>105.280000</td>\n",
       "    </tr>\n",
       "    <tr>\n",
       "      <th>75%</th>\n",
       "      <td>359.000000</td>\n",
       "      <td>1.000000</td>\n",
       "      <td>176.330000</td>\n",
       "    </tr>\n",
       "    <tr>\n",
       "      <th>max</th>\n",
       "      <td>704.000000</td>\n",
       "      <td>26.000000</td>\n",
       "      <td>13664.080000</td>\n",
       "    </tr>\n",
       "  </tbody>\n",
       "</table>\n",
       "</div>"
      ],
      "text/plain": [
       "                  r             f             m\n",
       "count  96460.000000  96460.000000  96460.000000\n",
       "mean     250.422662      1.044360    159.855721\n",
       "std      152.568149      0.369635    218.828474\n",
       "min        1.000000      1.000000      9.590000\n",
       "25%      127.000000      1.000000     61.880000\n",
       "50%      231.000000      1.000000    105.280000\n",
       "75%      359.000000      1.000000    176.330000\n",
       "max      704.000000     26.000000  13664.080000"
      ]
     },
     "execution_count": 99,
     "metadata": {},
     "output_type": "execute_result"
    }
   ],
   "source": [
    "rfm_merge.describe()"
   ]
  },
  {
   "cell_type": "markdown",
   "metadata": {},
   "source": [
    "### Korelasi Heatmap Antar Variabel untuk RFM\n",
    "\n",
    "Dapat dilihat dari heatmap korelasi bahwa nilai korelasi antar variabel r, f, dan m sangat rendah. Hal ini juga sejalan dengan prinsip dari RFM dimana RFM didesain untuk menangkap dimensi berbeda dari perilaku pelanggan. Oleh karena itu, korelasi rendah diharapkan.\n",
    "\n"
   ]
  },
  {
   "cell_type": "code",
   "execution_count": 100,
   "metadata": {},
   "outputs": [
    {
     "data": {
      "image/png": "[encoded data removed]",
      "text/plain": [
       "<Figure size 640x480 with 2 Axes>"
      ]
     },
     "metadata": {},
     "output_type": "display_data"
    }
   ],
   "source": [
    "# Heatmap untuk korelasi\n",
    "corr = rfm_merge[['r', 'f', 'm']].corr()\n",
    "sns.heatmap(corr, annot=True, cmap='coolwarm')\n",
    "plt.title(\"Korelasi Antar Variabel\")\n",
    "plt.show()"
   ]
  },
  {
   "cell_type": "markdown",
   "metadata": {},
   "source": [
    "### Analisis Tren Waktu Pembelian Pelanggan"
   ]
  },
  {
   "cell_type": "code",
   "execution_count": 101,
   "metadata": {},
   "outputs": [
    {
     "name": "stderr",
     "output_type": "stream",
     "text": [
      "/tmp/ipykernel_76960/3083370942.py:2: SettingWithCopyWarning: \n",
      "A value is trying to be set on a copy of a slice from a DataFrame.\n",
      "Try using .loc[row_indexer,col_indexer] = value instead\n",
      "\n",
      "See the caveats in the documentation: https://pandas.pydata.org/pandas-docs/stable/user_guide/indexing.html#returning-a-view-versus-a-copy\n",
      "  order_pelanggan_clean['month'] = order_pelanggan_clean['order_purchase_timestamp'].dt.to_period('M')\n"
     ]
    },
    {
     "data": {
      "image/png": "[encoded data removed]",
      "text/plain": [
       "<Figure size 1200x600 with 1 Axes>"
      ]
     },
     "metadata": {},
     "output_type": "display_data"
    }
   ],
   "source": [
    "# Tren pembelian per bulan\n",
    "order_pelanggan_clean['month'] = order_pelanggan_clean['order_purchase_timestamp'].dt.to_period('M')\n",
    "monthly_trend = order_pelanggan_clean.groupby('month').size()\n",
    "\n",
    "plt.figure(figsize=(12, 6))\n",
    "monthly_trend.plot(kind='line')\n",
    "plt.title('Tren Jumlah Pesanan per Bulan')\n",
    "plt.xlabel('Bulan')\n",
    "plt.ylabel('Jumlah Pesanan')\n",
    "plt.grid(True)\n",
    "plt.show()"
   ]
  },
  {
   "cell_type": "markdown",
   "metadata": {},
   "source": [
    "### Analisis Retensi Pelanggan Setiap Tahun"
   ]
  },
  {
   "cell_type": "code",
   "execution_count": 102,
   "metadata": {},
   "outputs": [
    {
     "name": "stderr",
     "output_type": "stream",
     "text": [
      "/tmp/ipykernel_76960/954504183.py:2: SettingWithCopyWarning: \n",
      "A value is trying to be set on a copy of a slice from a DataFrame.\n",
      "Try using .loc[row_indexer,col_indexer] = value instead\n",
      "\n",
      "See the caveats in the documentation: https://pandas.pydata.org/pandas-docs/stable/user_guide/indexing.html#returning-a-view-versus-a-copy\n",
      "  order_pelanggan_clean['year'] = order_pelanggan_clean['order_purchase_timestamp'].dt.year\n"
     ]
    },
    {
     "data": {
      "image/png": "[encoded data removed]",
      "text/plain": [
       "<Figure size 1000x600 with 1 Axes>"
      ]
     },
     "metadata": {},
     "output_type": "display_data"
    }
   ],
   "source": [
    "# Retensi pelanggan berdasarkan tahun\n",
    "order_pelanggan_clean['year'] = order_pelanggan_clean['order_purchase_timestamp'].dt.year\n",
    "customer_retention = order_pelanggan_clean.groupby('year')['customer_id'].nunique()\n",
    "\n",
    "plt.figure(figsize=(10, 6))\n",
    "customer_retention.plot(kind='bar', color='orange')\n",
    "plt.title('Retensi Pelanggan per Tahun')\n",
    "plt.xlabel('Tahun')\n",
    "plt.ylabel('Jumlah Pelanggan Unik')\n",
    "plt.grid(axis='y')\n",
    "plt.show()"
   ]
  },
  {
   "cell_type": "markdown",
   "metadata": {},
   "source": [
    "### Segmentasi Frekuensi Pembeli"
   ]
  },
  {
   "cell_type": "code",
   "execution_count": 103,
   "metadata": {},
   "outputs": [
    {
     "data": {
      "image/png": "[encoded data removed]",
      "text/plain": [
       "<Figure size 400x400 with 1 Axes>"
      ]
     },
     "metadata": {},
     "output_type": "display_data"
    }
   ],
   "source": [
    "# Distribusi pembeli berdasarkan frekuensi\n",
    "frequency_dist = rfm_merge['f'].value_counts()\n",
    "\n",
    "plt.figure(figsize=(4, 4))\n",
    "frequency_dist.plot(kind='bar', color='purple')\n",
    "plt.title('Distribusi Pembelian Berdasarkan Frekuensi')\n",
    "plt.xlabel('Jumlah Pembelian')\n",
    "plt.ylabel('Jumlah Pelanggan')\n",
    "plt.grid(axis='y')\n",
    "plt.show()"
   ]
  },
  {
   "cell_type": "markdown",
   "metadata": {},
   "source": [
    "### Persebaran 'R' Recency dan 'M' Monetary"
   ]
  },
  {
   "cell_type": "code",
   "execution_count": 104,
   "metadata": {},
   "outputs": [
    {
     "name": "stderr",
     "output_type": "stream",
     "text": [
      "/tmp/ipykernel_76960/1000376332.py:3: UserWarning: \n",
      "\n",
      "`distplot` is a deprecated function and will be removed in seaborn v0.14.0.\n",
      "\n",
      "Please adapt your code to use either `displot` (a figure-level function with\n",
      "similar flexibility) or `histplot` (an axes-level function for histograms).\n",
      "\n",
      "For a guide to updating your code to use the new functions, please see\n",
      "https://gist.github.com/mwaskom/de44147ed2974457ad6372750bbe5751\n",
      "\n",
      "  sns.distplot(rfm_merge.r, kde=False, bins = 50)\n"
     ]
    },
    {
     "data": {
      "text/plain": [
       "<Axes: title={'center': 'Recency (days from last order)'}, xlabel='r'>"
      ]
     },
     "execution_count": 104,
     "metadata": {},
     "output_type": "execute_result"
    },
    {
     "data": {
      "image/png": "[encoded data removed]",
      "text/plain": [
       "<Figure size 1200x600 with 1 Axes>"
      ]
     },
     "metadata": {},
     "output_type": "display_data"
    }
   ],
   "source": [
    "plt.figure(figsize=(12, 6))\n",
    "plt.title('Recency (days from last order)')\n",
    "sns.distplot(rfm_merge.r, kde=False, bins = 50)"
   ]
  },
  {
   "cell_type": "code",
   "execution_count": 105,
   "metadata": {},
   "outputs": [
    {
     "name": "stderr",
     "output_type": "stream",
     "text": [
      "/tmp/ipykernel_76960/2360917965.py:3: UserWarning: \n",
      "\n",
      "`distplot` is a deprecated function and will be removed in seaborn v0.14.0.\n",
      "\n",
      "Please adapt your code to use either `displot` (a figure-level function with\n",
      "similar flexibility) or `histplot` (an axes-level function for histograms).\n",
      "\n",
      "For a guide to updating your code to use the new functions, please see\n",
      "https://gist.github.com/mwaskom/de44147ed2974457ad6372750bbe5751\n",
      "\n",
      "  sns.distplot(rfm_merge.m[rfm_merge.m < np.quantile(a = rfm_merge.m, q=0.99)], kde = False)\n"
     ]
    },
    {
     "data": {
      "text/plain": [
       "<Axes: title={'center': 'Monetary'}, xlabel='m'>"
      ]
     },
     "execution_count": 105,
     "metadata": {},
     "output_type": "execute_result"
    },
    {
     "data": {
      "image/png": "[encoded data removed]",
      "text/plain": [
       "<Figure size 1200x600 with 1 Axes>"
      ]
     },
     "metadata": {},
     "output_type": "display_data"
    }
   ],
   "source": [
    "plt.figure(figsize=(12, 6))\n",
    "plt.title('Monetary')\n",
    "sns.distplot(rfm_merge.m[rfm_merge.m < np.quantile(a = rfm_merge.m, q=0.99)], kde = False)\n"
   ]
  },
  {
   "cell_type": "markdown",
   "metadata": {},
   "source": [
    "## RFM Analysis\n",
    "\n",
    "Pada RFM analysis ini setidaknya ada beberapa tujuan yang ingin dicapai yakni:\n",
    "\n",
    "1. Segmentasi Pelanggan\n",
    "\n",
    "    RFM (Recency, Frequency, Monetary) analysis digunakan untuk mengelompokkan pelanggan berdasarkan perilaku mereka:\n",
    "    - Recency (R): Seberapa baru pelanggan terakhir kali melakukan transaksi.\n",
    "    - Frequency (F): Seberapa sering pelanggan melakukan transaksi.\n",
    "    - Monetary (M): Seberapa banyak uang yang telah dikeluarkan pelanggan dalam total transaksi.\n",
    "    \n",
    "    Dengan menggunakan RFM, pelanggan dikelompokkan ke dalam kategori-kategori seperti:\n",
    "    - Churned: Pelanggan yang sudah lama tidak bertransaksi.\n",
    "    - Newest: Pelanggan baru.\n",
    "    - Loyal: Pelanggan setia yang sering berbelanja.\n",
    "    - Big Spenders: Pelanggan yang menghabiskan banyak uang.\n",
    "    - Soon to Churn: Pelanggan yang jarang melakukan transaksi dan berpotensi untuk pergi.\n",
    "\n",
    "2. Identifikasi Kondisi Pelanggan\n",
    "\n",
    "    Dengan segmentasi RFM, kita dapat mengidentifikasi kondisi pelanggan saat ini dan memahami:\n",
    "    - Siapa pelanggan paling berharga (VIP).\n",
    "    - Pelanggan yang sudah tidak aktif (churned).\n",
    "    - Pelanggan yang hanya bertransaksi sekali.\n",
    "    - Pelanggan yang mungkin akan berhenti berbelanja.\n",
    "\n",
    "3. Strategi Pemasaran yang Tepat Sasaran\n",
    "\n",
    "    Hasil RFM analysis membantu perusahaan merancang strategi pemasaran yang lebih efektif dan tertarget, seperti:\n",
    "    - Retensi Pelanggan: Memberikan insentif atau penawaran khusus untuk pelanggan yang berpotensi churn.\n",
    "    - Promosi ke Pelanggan Loyal: Memberikan penghargaan atau program loyalitas kepada pelanggan setia.\n",
    "    - Reaktivasi Pelanggan Lama: Menarik pelanggan lama yang sudah churned dengan diskon atau penawaran spesial.\n",
    "    - Konversi Pelanggan Baru: Mendorong pelanggan baru untuk bertransaksi lebih sering."
   ]
  },
  {
   "cell_type": "markdown",
   "metadata": {},
   "source": [
    "### Membagi R dan M menjadi tiga segment serta menetapkan nilai F menjadi 1 dan 2"
   ]
  },
  {
   "cell_type": "code",
   "execution_count": 106,
   "metadata": {},
   "outputs": [],
   "source": [
    "quants = {'r': rfm_merge.r.quantile([.33, .66]).values,\n",
    "          'f': np.array([1, 2]),\n",
    "          'm': rfm_merge.m.quantile([.33, .66]).values\n",
    "         }"
   ]
  },
  {
   "cell_type": "code",
   "execution_count": 107,
   "metadata": {},
   "outputs": [],
   "source": [
    "quant_table = pd.DataFrame (quants, columns = ['r','f','m'])"
   ]
  },
  {
   "cell_type": "markdown",
   "metadata": {},
   "source": [
    "### Membuat fungsi untuk mencari nilai RFM"
   ]
  },
  {
   "cell_type": "code",
   "execution_count": 108,
   "metadata": {},
   "outputs": [],
   "source": [
    "def rfm_segment(x, col):\n",
    "    if col in ['f', 'm']:\n",
    "        if x <= quant_table[col].iloc[0]:\n",
    "            return(1)\n",
    "        if (x > quant_table[col].iloc[0]) and (x <= quant_table[col].iloc[1]):\n",
    "            return(2)\n",
    "        else:\n",
    "            return(3)\n",
    "    if col in ['r']:\n",
    "        if x <= quant_table[col].iloc[0]:\n",
    "            return(3)\n",
    "        if (x > quant_table[col].iloc[0]) and (x <= quant_table[col].iloc[1]):\n",
    "            return(2)\n",
    "        else:\n",
    "            return(1)  "
   ]
  },
  {
   "cell_type": "markdown",
   "metadata": {},
   "source": [
    "### Mencari nilai gabungan RFM Score"
   ]
  },
  {
   "cell_type": "code",
   "execution_count": 109,
   "metadata": {},
   "outputs": [],
   "source": [
    "for columns in rfm_merge.columns:\n",
    "    rfm_merge[f'{columns}-segment'] = rfm_merge[columns].apply(lambda x: rfm_segment(x, columns))"
   ]
  },
  {
   "cell_type": "code",
   "execution_count": 110,
   "metadata": {},
   "outputs": [
    {
     "data": {
      "text/html": [
       "<div>\n",
       "<style scoped>\n",
       "    .dataframe tbody tr th:only-of-type {\n",
       "        vertical-align: middle;\n",
       "    }\n",
       "\n",
       "    .dataframe tbody tr th {\n",
       "        vertical-align: top;\n",
       "    }\n",
       "\n",
       "    .dataframe thead th {\n",
       "        text-align: right;\n",
       "    }\n",
       "</style>\n",
       "<table border=\"1\" class=\"dataframe\">\n",
       "  <thead>\n",
       "    <tr style=\"text-align: right;\">\n",
       "      <th></th>\n",
       "      <th>r</th>\n",
       "      <th>f</th>\n",
       "      <th>m</th>\n",
       "      <th>r-segment</th>\n",
       "      <th>f-segment</th>\n",
       "      <th>m-segment</th>\n",
       "      <th>rfm-score</th>\n",
       "    </tr>\n",
       "    <tr>\n",
       "      <th>customer_id</th>\n",
       "      <th></th>\n",
       "      <th></th>\n",
       "      <th></th>\n",
       "      <th></th>\n",
       "      <th></th>\n",
       "      <th></th>\n",
       "      <th></th>\n",
       "    </tr>\n",
       "  </thead>\n",
       "  <tbody>\n",
       "    <tr>\n",
       "      <th>00012a2ce6f8dcda20d059ce98491703</th>\n",
       "      <td>299</td>\n",
       "      <td>1</td>\n",
       "      <td>114.74</td>\n",
       "      <td>2</td>\n",
       "      <td>1</td>\n",
       "      <td>2</td>\n",
       "      <td>212</td>\n",
       "    </tr>\n",
       "    <tr>\n",
       "      <th>000161a058600d5901f007fab4c27140</th>\n",
       "      <td>420</td>\n",
       "      <td>1</td>\n",
       "      <td>67.41</td>\n",
       "      <td>1</td>\n",
       "      <td>1</td>\n",
       "      <td>1</td>\n",
       "      <td>111</td>\n",
       "    </tr>\n",
       "    <tr>\n",
       "      <th>0001fd6190edaaf884bcaf3d49edf079</th>\n",
       "      <td>560</td>\n",
       "      <td>1</td>\n",
       "      <td>195.42</td>\n",
       "      <td>1</td>\n",
       "      <td>1</td>\n",
       "      <td>3</td>\n",
       "      <td>113</td>\n",
       "    </tr>\n",
       "    <tr>\n",
       "      <th>0002414f95344307404f0ace7a26f1d5</th>\n",
       "      <td>389</td>\n",
       "      <td>1</td>\n",
       "      <td>179.35</td>\n",
       "      <td>1</td>\n",
       "      <td>1</td>\n",
       "      <td>3</td>\n",
       "      <td>113</td>\n",
       "    </tr>\n",
       "    <tr>\n",
       "      <th>000379cdec625522490c315e70c7a9fb</th>\n",
       "      <td>161</td>\n",
       "      <td>1</td>\n",
       "      <td>107.01</td>\n",
       "      <td>3</td>\n",
       "      <td>1</td>\n",
       "      <td>2</td>\n",
       "      <td>312</td>\n",
       "    </tr>\n",
       "    <tr>\n",
       "      <th>...</th>\n",
       "      <td>...</td>\n",
       "      <td>...</td>\n",
       "      <td>...</td>\n",
       "      <td>...</td>\n",
       "      <td>...</td>\n",
       "      <td>...</td>\n",
       "      <td>...</td>\n",
       "    </tr>\n",
       "    <tr>\n",
       "      <th>fffcb937e9dd47a13f05ecb8290f4d3e</th>\n",
       "      <td>179</td>\n",
       "      <td>1</td>\n",
       "      <td>91.91</td>\n",
       "      <td>2</td>\n",
       "      <td>1</td>\n",
       "      <td>2</td>\n",
       "      <td>212</td>\n",
       "    </tr>\n",
       "    <tr>\n",
       "      <th>fffecc9f79fd8c764f843e9951b11341</th>\n",
       "      <td>165</td>\n",
       "      <td>3</td>\n",
       "      <td>81.36</td>\n",
       "      <td>2</td>\n",
       "      <td>3</td>\n",
       "      <td>2</td>\n",
       "      <td>232</td>\n",
       "    </tr>\n",
       "    <tr>\n",
       "      <th>fffeda5b6d849fbd39689bb92087f431</th>\n",
       "      <td>110</td>\n",
       "      <td>1</td>\n",
       "      <td>63.13</td>\n",
       "      <td>3</td>\n",
       "      <td>1</td>\n",
       "      <td>1</td>\n",
       "      <td>311</td>\n",
       "    </tr>\n",
       "    <tr>\n",
       "      <th>ffff42319e9b2d713724ae527742af25</th>\n",
       "      <td>89</td>\n",
       "      <td>1</td>\n",
       "      <td>214.13</td>\n",
       "      <td>3</td>\n",
       "      <td>1</td>\n",
       "      <td>3</td>\n",
       "      <td>313</td>\n",
       "    </tr>\n",
       "    <tr>\n",
       "      <th>ffffa3172527f765de70084a7e53aae8</th>\n",
       "      <td>369</td>\n",
       "      <td>1</td>\n",
       "      <td>45.50</td>\n",
       "      <td>1</td>\n",
       "      <td>1</td>\n",
       "      <td>1</td>\n",
       "      <td>111</td>\n",
       "    </tr>\n",
       "  </tbody>\n",
       "</table>\n",
       "<p>96460 rows × 7 columns</p>\n",
       "</div>"
      ],
      "text/plain": [
       "                                    r  f       m  r-segment  f-segment  \\\n",
       "customer_id                                                              \n",
       "00012a2ce6f8dcda20d059ce98491703  299  1  114.74          2          1   \n",
       "000161a058600d5901f007fab4c27140  420  1   67.41          1          1   \n",
       "0001fd6190edaaf884bcaf3d49edf079  560  1  195.42          1          1   \n",
       "0002414f95344307404f0ace7a26f1d5  389  1  179.35          1          1   \n",
       "000379cdec625522490c315e70c7a9fb  161  1  107.01          3          1   \n",
       "...                               ... ..     ...        ...        ...   \n",
       "fffcb937e9dd47a13f05ecb8290f4d3e  179  1   91.91          2          1   \n",
       "fffecc9f79fd8c764f843e9951b11341  165  3   81.36          2          3   \n",
       "fffeda5b6d849fbd39689bb92087f431  110  1   63.13          3          1   \n",
       "ffff42319e9b2d713724ae527742af25   89  1  214.13          3          1   \n",
       "ffffa3172527f765de70084a7e53aae8  369  1   45.50          1          1   \n",
       "\n",
       "                                  m-segment rfm-score  \n",
       "customer_id                                            \n",
       "00012a2ce6f8dcda20d059ce98491703          2       212  \n",
       "000161a058600d5901f007fab4c27140          1       111  \n",
       "0001fd6190edaaf884bcaf3d49edf079          3       113  \n",
       "0002414f95344307404f0ace7a26f1d5          3       113  \n",
       "000379cdec625522490c315e70c7a9fb          2       312  \n",
       "...                                     ...       ...  \n",
       "fffcb937e9dd47a13f05ecb8290f4d3e          2       212  \n",
       "fffecc9f79fd8c764f843e9951b11341          2       232  \n",
       "fffeda5b6d849fbd39689bb92087f431          1       311  \n",
       "ffff42319e9b2d713724ae527742af25          3       313  \n",
       "ffffa3172527f765de70084a7e53aae8          1       111  \n",
       "\n",
       "[96460 rows x 7 columns]"
      ]
     },
     "execution_count": 110,
     "metadata": {},
     "output_type": "execute_result"
    }
   ],
   "source": [
    "rfm_merge['rfm-score'] = rfm_merge['r-segment'].apply(str) + rfm_merge['f-segment'].apply(str) + rfm_merge['m-segment'].apply(str)\n",
    "rfm_merge"
   ]
  },
  {
   "cell_type": "markdown",
   "metadata": {},
   "source": [
    "### Menghapus kolom RFM untuk melakukan Segmentasi berikutnya"
   ]
  },
  {
   "cell_type": "code",
   "execution_count": 111,
   "metadata": {},
   "outputs": [
    {
     "data": {
      "text/html": [
       "<div>\n",
       "<style scoped>\n",
       "    .dataframe tbody tr th:only-of-type {\n",
       "        vertical-align: middle;\n",
       "    }\n",
       "\n",
       "    .dataframe tbody tr th {\n",
       "        vertical-align: top;\n",
       "    }\n",
       "\n",
       "    .dataframe thead th {\n",
       "        text-align: right;\n",
       "    }\n",
       "</style>\n",
       "<table border=\"1\" class=\"dataframe\">\n",
       "  <thead>\n",
       "    <tr style=\"text-align: right;\">\n",
       "      <th></th>\n",
       "      <th>rfm-score</th>\n",
       "      <th>r-segment</th>\n",
       "      <th>f-segment</th>\n",
       "      <th>m-segment</th>\n",
       "      <th>customer_id</th>\n",
       "    </tr>\n",
       "  </thead>\n",
       "  <tbody>\n",
       "    <tr>\n",
       "      <th>0</th>\n",
       "      <td>111</td>\n",
       "      <td>1</td>\n",
       "      <td>1</td>\n",
       "      <td>1</td>\n",
       "      <td>10446</td>\n",
       "    </tr>\n",
       "    <tr>\n",
       "      <th>1</th>\n",
       "      <td>112</td>\n",
       "      <td>1</td>\n",
       "      <td>1</td>\n",
       "      <td>2</td>\n",
       "      <td>10630</td>\n",
       "    </tr>\n",
       "    <tr>\n",
       "      <th>2</th>\n",
       "      <td>113</td>\n",
       "      <td>1</td>\n",
       "      <td>1</td>\n",
       "      <td>3</td>\n",
       "      <td>10512</td>\n",
       "    </tr>\n",
       "    <tr>\n",
       "      <th>3</th>\n",
       "      <td>121</td>\n",
       "      <td>1</td>\n",
       "      <td>2</td>\n",
       "      <td>1</td>\n",
       "      <td>323</td>\n",
       "    </tr>\n",
       "    <tr>\n",
       "      <th>4</th>\n",
       "      <td>122</td>\n",
       "      <td>1</td>\n",
       "      <td>2</td>\n",
       "      <td>2</td>\n",
       "      <td>305</td>\n",
       "    </tr>\n",
       "    <tr>\n",
       "      <th>5</th>\n",
       "      <td>123</td>\n",
       "      <td>1</td>\n",
       "      <td>2</td>\n",
       "      <td>3</td>\n",
       "      <td>296</td>\n",
       "    </tr>\n",
       "    <tr>\n",
       "      <th>6</th>\n",
       "      <td>131</td>\n",
       "      <td>1</td>\n",
       "      <td>3</td>\n",
       "      <td>1</td>\n",
       "      <td>93</td>\n",
       "    </tr>\n",
       "    <tr>\n",
       "      <th>7</th>\n",
       "      <td>132</td>\n",
       "      <td>1</td>\n",
       "      <td>3</td>\n",
       "      <td>2</td>\n",
       "      <td>94</td>\n",
       "    </tr>\n",
       "    <tr>\n",
       "      <th>8</th>\n",
       "      <td>133</td>\n",
       "      <td>1</td>\n",
       "      <td>3</td>\n",
       "      <td>3</td>\n",
       "      <td>64</td>\n",
       "    </tr>\n",
       "    <tr>\n",
       "      <th>9</th>\n",
       "      <td>211</td>\n",
       "      <td>2</td>\n",
       "      <td>1</td>\n",
       "      <td>1</td>\n",
       "      <td>10331</td>\n",
       "    </tr>\n",
       "    <tr>\n",
       "      <th>10</th>\n",
       "      <td>212</td>\n",
       "      <td>2</td>\n",
       "      <td>1</td>\n",
       "      <td>2</td>\n",
       "      <td>9861</td>\n",
       "    </tr>\n",
       "    <tr>\n",
       "      <th>11</th>\n",
       "      <td>213</td>\n",
       "      <td>2</td>\n",
       "      <td>1</td>\n",
       "      <td>3</td>\n",
       "      <td>10406</td>\n",
       "    </tr>\n",
       "    <tr>\n",
       "      <th>12</th>\n",
       "      <td>221</td>\n",
       "      <td>2</td>\n",
       "      <td>2</td>\n",
       "      <td>1</td>\n",
       "      <td>264</td>\n",
       "    </tr>\n",
       "    <tr>\n",
       "      <th>13</th>\n",
       "      <td>222</td>\n",
       "      <td>2</td>\n",
       "      <td>2</td>\n",
       "      <td>2</td>\n",
       "      <td>229</td>\n",
       "    </tr>\n",
       "    <tr>\n",
       "      <th>14</th>\n",
       "      <td>223</td>\n",
       "      <td>2</td>\n",
       "      <td>2</td>\n",
       "      <td>3</td>\n",
       "      <td>236</td>\n",
       "    </tr>\n",
       "    <tr>\n",
       "      <th>15</th>\n",
       "      <td>231</td>\n",
       "      <td>2</td>\n",
       "      <td>3</td>\n",
       "      <td>1</td>\n",
       "      <td>63</td>\n",
       "    </tr>\n",
       "    <tr>\n",
       "      <th>16</th>\n",
       "      <td>232</td>\n",
       "      <td>2</td>\n",
       "      <td>3</td>\n",
       "      <td>2</td>\n",
       "      <td>52</td>\n",
       "    </tr>\n",
       "    <tr>\n",
       "      <th>17</th>\n",
       "      <td>233</td>\n",
       "      <td>2</td>\n",
       "      <td>3</td>\n",
       "      <td>3</td>\n",
       "      <td>39</td>\n",
       "    </tr>\n",
       "    <tr>\n",
       "      <th>18</th>\n",
       "      <td>311</td>\n",
       "      <td>3</td>\n",
       "      <td>1</td>\n",
       "      <td>1</td>\n",
       "      <td>10039</td>\n",
       "    </tr>\n",
       "    <tr>\n",
       "      <th>19</th>\n",
       "      <td>312</td>\n",
       "      <td>3</td>\n",
       "      <td>1</td>\n",
       "      <td>2</td>\n",
       "      <td>10406</td>\n",
       "    </tr>\n",
       "    <tr>\n",
       "      <th>20</th>\n",
       "      <td>313</td>\n",
       "      <td>3</td>\n",
       "      <td>1</td>\n",
       "      <td>3</td>\n",
       "      <td>10954</td>\n",
       "    </tr>\n",
       "    <tr>\n",
       "      <th>21</th>\n",
       "      <td>321</td>\n",
       "      <td>3</td>\n",
       "      <td>2</td>\n",
       "      <td>1</td>\n",
       "      <td>216</td>\n",
       "    </tr>\n",
       "    <tr>\n",
       "      <th>22</th>\n",
       "      <td>322</td>\n",
       "      <td>3</td>\n",
       "      <td>2</td>\n",
       "      <td>2</td>\n",
       "      <td>203</td>\n",
       "    </tr>\n",
       "    <tr>\n",
       "      <th>23</th>\n",
       "      <td>323</td>\n",
       "      <td>3</td>\n",
       "      <td>2</td>\n",
       "      <td>3</td>\n",
       "      <td>241</td>\n",
       "    </tr>\n",
       "    <tr>\n",
       "      <th>24</th>\n",
       "      <td>331</td>\n",
       "      <td>3</td>\n",
       "      <td>3</td>\n",
       "      <td>1</td>\n",
       "      <td>57</td>\n",
       "    </tr>\n",
       "    <tr>\n",
       "      <th>25</th>\n",
       "      <td>332</td>\n",
       "      <td>3</td>\n",
       "      <td>3</td>\n",
       "      <td>2</td>\n",
       "      <td>51</td>\n",
       "    </tr>\n",
       "    <tr>\n",
       "      <th>26</th>\n",
       "      <td>333</td>\n",
       "      <td>3</td>\n",
       "      <td>3</td>\n",
       "      <td>3</td>\n",
       "      <td>49</td>\n",
       "    </tr>\n",
       "  </tbody>\n",
       "</table>\n",
       "</div>"
      ],
      "text/plain": [
       "   rfm-score  r-segment  f-segment  m-segment  customer_id\n",
       "0        111          1          1          1        10446\n",
       "1        112          1          1          2        10630\n",
       "2        113          1          1          3        10512\n",
       "3        121          1          2          1          323\n",
       "4        122          1          2          2          305\n",
       "5        123          1          2          3          296\n",
       "6        131          1          3          1           93\n",
       "7        132          1          3          2           94\n",
       "8        133          1          3          3           64\n",
       "9        211          2          1          1        10331\n",
       "10       212          2          1          2         9861\n",
       "11       213          2          1          3        10406\n",
       "12       221          2          2          1          264\n",
       "13       222          2          2          2          229\n",
       "14       223          2          2          3          236\n",
       "15       231          2          3          1           63\n",
       "16       232          2          3          2           52\n",
       "17       233          2          3          3           39\n",
       "18       311          3          1          1        10039\n",
       "19       312          3          1          2        10406\n",
       "20       313          3          1          3        10954\n",
       "21       321          3          2          1          216\n",
       "22       322          3          2          2          203\n",
       "23       323          3          2          3          241\n",
       "24       331          3          3          1           57\n",
       "25       332          3          3          2           51\n",
       "26       333          3          3          3           49"
      ]
     },
     "execution_count": 111,
     "metadata": {},
     "output_type": "execute_result"
    }
   ],
   "source": [
    "rfm_merge_seg = rfm_merge.reset_index().groupby(['rfm-score','r-segment','f-segment','m-segment'], as_index = False).agg({'customer_id':'count'})\n",
    "rfm_merge_seg"
   ]
  },
  {
   "cell_type": "markdown",
   "metadata": {},
   "source": [
    "### Membuat fungsi segmentasi"
   ]
  },
  {
   "cell_type": "code",
   "execution_count": 112,
   "metadata": {},
   "outputs": [],
   "source": [
    "def segmentasi(x):\n",
    "    if x in ['333', '323']:\n",
    "        return('TERBAIK')  # BEST\n",
    "    if x in ['223','233']:\n",
    "        return('PELANGGAN PENGELUARAN TERBESAR')\n",
    "    if x in ['111','112','113']:\n",
    "        return('HILANG')  \n",
    "    if x in ['321','322','331','332']:\n",
    "        return('PELANGGAN SETIA')\n",
    "    if x in ['311','312','313']:\n",
    "        return('PELANGGAN BARU')\n",
    "    if x in ['231','232']:\n",
    "        return('DULU SERING BELANJA') \n",
    "    if x in ['131','132','133']:\n",
    "        return('DULU SETIA') \n",
    "    if x in ['211','212','213']:\n",
    "        return('PELANGGAN BARU SATU KALI BELANJA')\n",
    "    if x in ['221','222']:\n",
    "        return('NORMAL')\n",
    "    if x in ['121','122','123']:\n",
    "        return('SEGERA HILANG') \n"
   ]
  },
  {
   "cell_type": "markdown",
   "metadata": {},
   "source": [
    "### Menerapkan segmentasi kedalam rfm-score"
   ]
  },
  {
   "cell_type": "code",
   "execution_count": 113,
   "metadata": {},
   "outputs": [
    {
     "data": {
      "text/html": [
       "<div>\n",
       "<style scoped>\n",
       "    .dataframe tbody tr th:only-of-type {\n",
       "        vertical-align: middle;\n",
       "    }\n",
       "\n",
       "    .dataframe tbody tr th {\n",
       "        vertical-align: top;\n",
       "    }\n",
       "\n",
       "    .dataframe thead th {\n",
       "        text-align: right;\n",
       "    }\n",
       "</style>\n",
       "<table border=\"1\" class=\"dataframe\">\n",
       "  <thead>\n",
       "    <tr style=\"text-align: right;\">\n",
       "      <th></th>\n",
       "      <th>r</th>\n",
       "      <th>f</th>\n",
       "      <th>m</th>\n",
       "    </tr>\n",
       "    <tr>\n",
       "      <th>customer_type</th>\n",
       "      <th></th>\n",
       "      <th></th>\n",
       "      <th></th>\n",
       "    </tr>\n",
       "  </thead>\n",
       "  <tbody>\n",
       "    <tr>\n",
       "      <th>DULU SERING BELANJA</th>\n",
       "      <td>232.582609</td>\n",
       "      <td>4.243478</td>\n",
       "      <td>70.726783</td>\n",
       "    </tr>\n",
       "    <tr>\n",
       "      <th>DULU SETIA</th>\n",
       "      <td>431.936255</td>\n",
       "      <td>4.784861</td>\n",
       "      <td>134.120956</td>\n",
       "    </tr>\n",
       "    <tr>\n",
       "      <th>HILANG</th>\n",
       "      <td>428.106464</td>\n",
       "      <td>1.000000</td>\n",
       "      <td>160.939929</td>\n",
       "    </tr>\n",
       "    <tr>\n",
       "      <th>NORMAL</th>\n",
       "      <td>232.200811</td>\n",
       "      <td>2.000000</td>\n",
       "      <td>74.690832</td>\n",
       "    </tr>\n",
       "    <tr>\n",
       "      <th>PELANGGAN BARU</th>\n",
       "      <td>88.179846</td>\n",
       "      <td>1.000000</td>\n",
       "      <td>164.345061</td>\n",
       "    </tr>\n",
       "    <tr>\n",
       "      <th>PELANGGAN BARU SATU KALI BELANJA</th>\n",
       "      <td>231.384175</td>\n",
       "      <td>1.000000</td>\n",
       "      <td>153.733543</td>\n",
       "    </tr>\n",
       "    <tr>\n",
       "      <th>PELANGGAN PENGELUARAN TERBESAR</th>\n",
       "      <td>230.094545</td>\n",
       "      <td>2.345455</td>\n",
       "      <td>335.618836</td>\n",
       "    </tr>\n",
       "    <tr>\n",
       "      <th>PELANGGAN SETIA</th>\n",
       "      <td>91.326376</td>\n",
       "      <td>2.445920</td>\n",
       "      <td>75.740607</td>\n",
       "    </tr>\n",
       "    <tr>\n",
       "      <th>SEGERA HILANG</th>\n",
       "      <td>430.886364</td>\n",
       "      <td>2.000000</td>\n",
       "      <td>170.330952</td>\n",
       "    </tr>\n",
       "    <tr>\n",
       "      <th>TERBAIK</th>\n",
       "      <td>85.893103</td>\n",
       "      <td>2.403448</td>\n",
       "      <td>356.848414</td>\n",
       "    </tr>\n",
       "  </tbody>\n",
       "</table>\n",
       "</div>"
      ],
      "text/plain": [
       "                                           r         f           m\n",
       "customer_type                                                     \n",
       "DULU SERING BELANJA               232.582609  4.243478   70.726783\n",
       "DULU SETIA                        431.936255  4.784861  134.120956\n",
       "HILANG                            428.106464  1.000000  160.939929\n",
       "NORMAL                            232.200811  2.000000   74.690832\n",
       "PELANGGAN BARU                     88.179846  1.000000  164.345061\n",
       "PELANGGAN BARU SATU KALI BELANJA  231.384175  1.000000  153.733543\n",
       "PELANGGAN PENGELUARAN TERBESAR    230.094545  2.345455  335.618836\n",
       "PELANGGAN SETIA                    91.326376  2.445920   75.740607\n",
       "SEGERA HILANG                     430.886364  2.000000  170.330952\n",
       "TERBAIK                            85.893103  2.403448  356.848414"
      ]
     },
     "execution_count": 113,
     "metadata": {},
     "output_type": "execute_result"
    }
   ],
   "source": [
    "rfm_merge['customer_type'] = rfm_merge['rfm-score'].apply(segmentasi)\n",
    "rfm_merge_seg['customer_type'] = rfm_merge_seg['rfm-score'].apply(segmentasi)\n",
    "rfm_merge.reset_index().groupby(['customer_type']).agg({'r':'mean', 'f':'mean','m':'mean'})"
   ]
  },
  {
   "cell_type": "markdown",
   "metadata": {},
   "source": [
    "### EDA sederhana untuk memahami distribusi pelanggan berdasarkan tipe loyalitas atau perilaku belanja\n",
    "\n",
    "mengambil jumlah dari customer_id dan menyimpannya pada kolom 'pengguna'\n",
    "mencari tahu persentase dari 'pengguna' dan menyimpannya pada kolom 'persentase_pengguna'\n",
    "\n",
    "##### Dapat dilihat dari output distribusi tersebut bahwa\n",
    "\n",
    "1. **Churned (32.78%)**  \n",
    "   Sekitar **1/3 dari pengguna** sudah keluar (*churned*).  \n",
    "   Ini menunjukkan adanya **masalah retensi pelanggan**, di mana bisnis kehilangan pelanggan secara signifikan dan belum berhasil mempertahankannya.\n",
    "\n",
    "2. **Newest dan Recent One-Timers (32.47% + 31.77%)**  \n",
    "   Sekitar **2/3 dari pengguna** adalah pendatang baru atau hanya melakukan **satu kali transaksi**.  \n",
    "   Ini berarti ada banyak **traffic** tetapi **konversi** menjadi pelanggan loyal masih sangat rendah.  \n",
    "\n",
    "   **Strategi Re-Engagement:**  \n",
    "   - Fokus pada **program onboarding** pelanggan baru.  \n",
    "   - Berikan **penawaran khusus** atau **diskon transaksi kedua** untuk mendorong pembelian berikutnya.  \n",
    "   - Gunakan **kampanye email** atau **program referral** agar mereka tertarik kembali bertransaksi.  \n",
    "\n",
    "3. **Loyal, Normal, dan Returning Customers (~3% total)**  \n",
    "   Hanya sebagian kecil pengguna (**~3%**) yang **setia** atau **aktif kembali** melakukan transaksi.  \n",
    "   Ini menunjukkan adanya **kesulitan dalam mempertahankan pelanggan** untuk melakukan pembelian berulang.  \n",
    "\n",
    "   **Strategi Menanggulangi:**  \n",
    "   - Implementasikan **program loyalitas pelanggan** seperti sistem poin atau reward.  \n",
    "   - Tawarkan **insentif eksklusif** untuk pelanggan setia, seperti diskon spesial atau akses prioritas.  \n",
    "   - Bangun hubungan jangka panjang dengan meningkatkan **customer experience** melalui pelayanan yang lebih baik.  \n"
   ]
  },
  {
   "cell_type": "code",
   "execution_count": 114,
   "metadata": {},
   "outputs": [
    {
     "data": {
      "text/html": [
       "<div>\n",
       "<style scoped>\n",
       "    .dataframe tbody tr th:only-of-type {\n",
       "        vertical-align: middle;\n",
       "    }\n",
       "\n",
       "    .dataframe tbody tr th {\n",
       "        vertical-align: top;\n",
       "    }\n",
       "\n",
       "    .dataframe thead th {\n",
       "        text-align: right;\n",
       "    }\n",
       "</style>\n",
       "<table border=\"1\" class=\"dataframe\">\n",
       "  <thead>\n",
       "    <tr style=\"text-align: right;\">\n",
       "      <th></th>\n",
       "      <th>customer_type</th>\n",
       "      <th>pengguna</th>\n",
       "      <th>persentase_pengguna</th>\n",
       "    </tr>\n",
       "  </thead>\n",
       "  <tbody>\n",
       "    <tr>\n",
       "      <th>2</th>\n",
       "      <td>HILANG</td>\n",
       "      <td>31588</td>\n",
       "      <td>32.747253</td>\n",
       "    </tr>\n",
       "    <tr>\n",
       "      <th>4</th>\n",
       "      <td>PELANGGAN BARU</td>\n",
       "      <td>31399</td>\n",
       "      <td>32.551317</td>\n",
       "    </tr>\n",
       "    <tr>\n",
       "      <th>5</th>\n",
       "      <td>PELANGGAN BARU SATU KALI BELANJA</td>\n",
       "      <td>30598</td>\n",
       "      <td>31.720921</td>\n",
       "    </tr>\n",
       "    <tr>\n",
       "      <th>8</th>\n",
       "      <td>SEGERA HILANG</td>\n",
       "      <td>924</td>\n",
       "      <td>0.957910</td>\n",
       "    </tr>\n",
       "    <tr>\n",
       "      <th>7</th>\n",
       "      <td>PELANGGAN SETIA</td>\n",
       "      <td>527</td>\n",
       "      <td>0.546340</td>\n",
       "    </tr>\n",
       "    <tr>\n",
       "      <th>3</th>\n",
       "      <td>NORMAL</td>\n",
       "      <td>493</td>\n",
       "      <td>0.511093</td>\n",
       "    </tr>\n",
       "    <tr>\n",
       "      <th>9</th>\n",
       "      <td>TERBAIK</td>\n",
       "      <td>290</td>\n",
       "      <td>0.300643</td>\n",
       "    </tr>\n",
       "    <tr>\n",
       "      <th>6</th>\n",
       "      <td>PELANGGAN PENGELUARAN TERBESAR</td>\n",
       "      <td>275</td>\n",
       "      <td>0.285092</td>\n",
       "    </tr>\n",
       "    <tr>\n",
       "      <th>1</th>\n",
       "      <td>DULU SETIA</td>\n",
       "      <td>251</td>\n",
       "      <td>0.260211</td>\n",
       "    </tr>\n",
       "    <tr>\n",
       "      <th>0</th>\n",
       "      <td>DULU SERING BELANJA</td>\n",
       "      <td>115</td>\n",
       "      <td>0.119220</td>\n",
       "    </tr>\n",
       "  </tbody>\n",
       "</table>\n",
       "</div>"
      ],
      "text/plain": [
       "                      customer_type  pengguna  persentase_pengguna\n",
       "2                            HILANG     31588            32.747253\n",
       "4                    PELANGGAN BARU     31399            32.551317\n",
       "5  PELANGGAN BARU SATU KALI BELANJA     30598            31.720921\n",
       "8                     SEGERA HILANG       924             0.957910\n",
       "7                   PELANGGAN SETIA       527             0.546340\n",
       "3                            NORMAL       493             0.511093\n",
       "9                           TERBAIK       290             0.300643\n",
       "6    PELANGGAN PENGELUARAN TERBESAR       275             0.285092\n",
       "1                        DULU SETIA       251             0.260211\n",
       "0               DULU SERING BELANJA       115             0.119220"
      ]
     },
     "execution_count": 114,
     "metadata": {},
     "output_type": "execute_result"
    }
   ],
   "source": [
    "dist_rfm = rfm_merge.reset_index().groupby(['customer_type'], as_index = False).agg({'customer_id':'count'}).rename(columns={'customer_id':'pengguna'})\n",
    "dist_rfm['persentase_pengguna'] = dist_rfm['pengguna'] * 100 / dist_rfm.pengguna.sum()\n",
    "dist_rfm.sort_values(by='persentase_pengguna', ascending = False)"
   ]
  }
 ],
 "metadata": {
  "kernelspec": {
   "display_name": "base",
   "language": "python",
   "name": "python3"
  },
  "language_info": {
   "codemirror_mode": {
    "name": "ipython",
    "version": 3
   },
   "file_extension": ".py",
   "mimetype": "text/x-python",
   "name": "python",
   "nbconvert_exporter": "python",
   "pygments_lexer": "ipython3",
   "version": "3.12.7"
  }
 },
 "nbformat": 4,
 "nbformat_minor": 2
}
